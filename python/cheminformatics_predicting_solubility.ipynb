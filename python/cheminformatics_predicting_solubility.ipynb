{
  "nbformat": 4,
  "nbformat_minor": 0,
  "metadata": {
    "colab": {
      "name": "cheminformatics-predicting-solubility.ipynb",
      "provenance": []
    },
    "kernelspec": {
      "name": "python3",
      "display_name": "Python 3"
    }
  },
  "cells": [
    {
      "cell_type": "markdown",
      "metadata": {
        "id": "OQi3X7TNUl5Y"
      },
      "source": [
        "# **Cheminformatics in Python: Predicting Solubility of Molecules | End-to-End Data Science Project**\n",
        "\n",
        "Chanin Nantasenamat\n",
        "\n",
        "<i>[Data Professor YouTube channel](http://youtube.com/dataprofessor), http://youtube.com/dataprofessor </i>\n",
        "\n",
        "In this Jupyter notebook, we will dive into the world of Cheminformatics which lies at the interface of Informatics and Chemistry. We will be reproducing a research article (by John S. Delaney$^1$) by applying Linear Regression to predict the solubility of molecules (i.e. solubility of drugs is an important physicochemical property in Drug discovery, design and development).\n",
        "\n",
        "This idea for this notebook was inspired by the excellent blog post by Pat Walters$^2$ where he reproduced the linear regression model with similar degree of performance as that of Delaney. This example is also briefly described in the book ***Deep Learning for the Life Sciences: Applying Deep Learning to Genomics, Microscopy, Drug Discovery, and More***.$^3$"
      ]
    },
    {
      "cell_type": "markdown",
      "metadata": {
        "id": "AQW_Ts66R4Ms"
      },
      "source": [
        "## **1. Install rdkit**"
      ]
    },
    {
      "cell_type": "code",
      "metadata": {
        "id": "-jNwdYoBR8ea"
      },
      "source": [
        "! wget https://repo.anaconda.com/miniconda/Miniconda3-py37_4.8.2-Linux-x86_64.sh\n",
        "! chmod +x Miniconda3-py37_4.8.2-Linux-x86_64.sh\n",
        "! bash ./Miniconda3-py37_4.8.2-Linux-x86_64.sh -b -f -p /usr/local\n",
        "! conda install -c rdkit rdkit -y\n",
        "import sys\n",
        "sys.path.append('/usr/local/lib/python3.7/site-packages/')"
      ],
      "execution_count": null,
      "outputs": []
    },
    {
      "cell_type": "markdown",
      "metadata": {
        "id": "H661uGwCNFMC"
      },
      "source": [
        "## **2. Delaney's solubility dataset**\n",
        "\n",
        "The original [Delaney's dataset](https://pubs.acs.org/doi/10.1021/ci034243x) available as a [Supplementary file](https://pubs.acs.org/doi/10.1021/ci034243x)$^4$. The full paper is entitled [ESOL:  Estimating Aqueous Solubility Directly from Molecular Structure](https://pubs.acs.org/doi/10.1021/ci034243x).$^1$"
      ]
    },
    {
      "cell_type": "markdown",
      "metadata": {
        "id": "s6o9QzQnNRVx"
      },
      "source": [
        "### **2.1. Download the dataset**"
      ]
    },
    {
      "cell_type": "code",
      "metadata": {
        "id": "6KKvV74LM1it"
      },
      "source": [
        "! wget https://pubs.acs.org/doi/suppl/10.1021/ci034243x/suppl_file/ci034243xsi20040112_053635.txt"
      ],
      "execution_count": null,
      "outputs": []
    },
    {
      "cell_type": "code",
      "metadata": {
        "id": "mBP_uaJZ710V"
      },
      "source": [
        "! wget https://raw.githubusercontent.com/dataprofessor/data/master/delaney.csv"
      ],
      "execution_count": null,
      "outputs": []
    },
    {
      "cell_type": "markdown",
      "metadata": {
        "id": "PJGp_xenNYKy"
      },
      "source": [
        "### **2.2. Read in the dataset**"
      ]
    },
    {
      "cell_type": "code",
      "metadata": {
        "id": "0ufiOpEbNooH"
      },
      "source": [
        "import pandas as pd"
      ],
      "execution_count": null,
      "outputs": []
    },
    {
      "cell_type": "code",
      "metadata": {
        "id": "nLS6bwiRNtuV"
      },
      "source": [
        "sol = pd.read_csv('delaney.csv')\n",
        "sol"
      ],
      "execution_count": null,
      "outputs": []
    },
    {
      "cell_type": "markdown",
      "metadata": {
        "id": "cUzImGPEXZRn"
      },
      "source": [
        "### **2.3. Examining the SMILES data**"
      ]
    },
    {
      "cell_type": "markdown",
      "metadata": {
        "id": "gGDLzIZmN5sJ"
      },
      "source": [
        "Chemical structures are encoded by a string of text known as **SMILES** which is an acronym for **Simplified Molecular-Input Line-Entry System**."
      ]
    },
    {
      "cell_type": "code",
      "metadata": {
        "id": "4pF777dmOOZ3"
      },
      "source": [
        "sol.SMILES"
      ],
      "execution_count": null,
      "outputs": []
    },
    {
      "cell_type": "markdown",
      "metadata": {
        "id": "qHlN5973X6bJ"
      },
      "source": [
        "The first element from the **SMILES** column of the **sol** dataframe."
      ]
    },
    {
      "cell_type": "code",
      "metadata": {
        "id": "jN0dzq9dXF5N"
      },
      "source": [
        "sol.SMILES[0]"
      ],
      "execution_count": null,
      "outputs": []
    },
    {
      "cell_type": "markdown",
      "metadata": {
        "id": "NO7tSBIeXQWk"
      },
      "source": [
        "### **2.4. Convert a molecule from the SMILES string to an rdkit object**"
      ]
    },
    {
      "cell_type": "code",
      "metadata": {
        "id": "BmlrBL_MOTkB"
      },
      "source": [
        "from rdkit import Chem"
      ],
      "execution_count": null,
      "outputs": []
    },
    {
      "cell_type": "code",
      "metadata": {
        "id": "0f9JLRD0XO85"
      },
      "source": [
        "Chem.MolFromSmiles(sol.SMILES[0])"
      ],
      "execution_count": null,
      "outputs": []
    },
    {
      "cell_type": "code",
      "metadata": {
        "id": "rwfN-yZYEFof"
      },
      "source": [
        "Chem.MolFromSmiles('ClCC(Cl)(Cl)Cl')"
      ],
      "execution_count": null,
      "outputs": []
    },
    {
      "cell_type": "markdown",
      "metadata": {
        "id": "MCdX2GjXFG-A"
      },
      "source": [
        "### **2.5. Working with rdkit object**"
      ]
    },
    {
      "cell_type": "code",
      "metadata": {
        "id": "8_6xQmjHFOo1"
      },
      "source": [
        "m = Chem.MolFromSmiles('ClCC(Cl)(Cl)Cl')"
      ],
      "execution_count": null,
      "outputs": []
    },
    {
      "cell_type": "code",
      "metadata": {
        "id": "3dn79-t4FLgT"
      },
      "source": [
        "m.GetNumAtoms()"
      ],
      "execution_count": null,
      "outputs": []
    },
    {
      "cell_type": "markdown",
      "metadata": {
        "id": "uqQLXGKQQAvX"
      },
      "source": [
        "## **3. Calculate molecular descriptors in rdkit**"
      ]
    },
    {
      "cell_type": "markdown",
      "metadata": {
        "id": "iD_6apg8kYDy"
      },
      "source": [
        "### **3.1. Convert list of molecules to rdkit object**"
      ]
    },
    {
      "cell_type": "code",
      "metadata": {
        "id": "bQjMv-wLOlmg"
      },
      "source": [
        "from rdkit import Chem"
      ],
      "execution_count": null,
      "outputs": []
    },
    {
      "cell_type": "markdown",
      "metadata": {
        "id": "TyaEoBb5FiKc"
      },
      "source": [
        "#### **3.1.1. Method 1**"
      ]
    },
    {
      "cell_type": "code",
      "metadata": {
        "id": "JisoMYFgka_p"
      },
      "source": [
        "mol_list= []\n",
        "for element in sol.SMILES:\n",
        "  mol = Chem.MolFromSmiles(element)\n",
        "  mol_list.append(mol)"
      ],
      "execution_count": null,
      "outputs": []
    },
    {
      "cell_type": "code",
      "metadata": {
        "id": "ZL7fG5Aok0Gh"
      },
      "source": [
        "len(mol_list)"
      ],
      "execution_count": null,
      "outputs": []
    },
    {
      "cell_type": "code",
      "metadata": {
        "id": "WiGYdtPUk3hV"
      },
      "source": [
        "mol_list[:5]"
      ],
      "execution_count": null,
      "outputs": []
    },
    {
      "cell_type": "markdown",
      "metadata": {
        "id": "-rBxrxF8Fk5S"
      },
      "source": [
        "#### **3.1.2. Method 2**"
      ]
    },
    {
      "cell_type": "code",
      "metadata": {
        "id": "AaHAVM2yFm3J"
      },
      "source": [
        "mol_list2 = [Chem.MolFromSmiles(element) for element in sol.SMILES]"
      ],
      "execution_count": null,
      "outputs": []
    },
    {
      "cell_type": "code",
      "metadata": {
        "id": "Fw5BCeh7F2c9"
      },
      "source": [
        "len(mol_list2)"
      ],
      "execution_count": null,
      "outputs": []
    },
    {
      "cell_type": "code",
      "metadata": {
        "id": "uASSo7ZMF5iv"
      },
      "source": [
        "mol_list2[:5]"
      ],
      "execution_count": null,
      "outputs": []
    },
    {
      "cell_type": "markdown",
      "metadata": {
        "id": "olyPX1TjQMvr"
      },
      "source": [
        "### **3.2. Calculate molecular descriptors**\n",
        "\n",
        "To predict **LogS** (log of the aqueous solubility), the study by Delaney makes use of 4 molecular descriptors:\n",
        "1. **cLogP** *(Octanol-water partition coefficient)*\n",
        "2. **MW** *(Molecular weight)*\n",
        "3. **RB** *(Number of rotatable bonds)*\n",
        "4. **AP** *(Aromatic proportion = number of aromatic atoms / total number of heavy atoms)*\n",
        "\n",
        "Unfortunately, rdkit readily computes the first 3. As for the AP descriptor, we will calculate this by manually computing the ratio of the *number of aromatic atoms* to the *total number of heavy atoms* which rdkit can compute."
      ]
    },
    {
      "cell_type": "markdown",
      "metadata": {
        "id": "k4fqhekzCB-X"
      },
      "source": [
        "#### **3.2.1. LogP, MW and RB**"
      ]
    },
    {
      "cell_type": "code",
      "metadata": {
        "id": "iS4w5r5ocxT8"
      },
      "source": [
        "import numpy as np\n",
        "from rdkit.Chem import Descriptors"
      ],
      "execution_count": null,
      "outputs": []
    },
    {
      "cell_type": "code",
      "metadata": {
        "id": "WkNMPVu_giw8"
      },
      "source": [
        "# Inspired by: https://codeocean.com/explore/capsules?query=tag:data-curation\n",
        "\n",
        "def generate(smiles, verbose=False):\n",
        "\n",
        "    moldata= []\n",
        "    for elem in smiles:\n",
        "        mol=Chem.MolFromSmiles(elem)\n",
        "        moldata.append(mol)\n",
        "\n",
        "    baseData= np.arange(1,1)\n",
        "    i=0\n",
        "    for mol in moldata:\n",
        "\n",
        "        desc_MolLogP = Descriptors.MolLogP(mol)\n",
        "        desc_MolWt = Descriptors.MolWt(mol)\n",
        "        desc_NumRotatableBonds = Descriptors.NumRotatableBonds(mol)\n",
        "\n",
        "        row = np.array([desc_MolLogP,\n",
        "                        desc_MolWt,\n",
        "                        desc_NumRotatableBonds])\n",
        "\n",
        "        if(i==0):\n",
        "            baseData=row\n",
        "        else:\n",
        "            baseData=np.vstack([baseData, row])\n",
        "        i=i+1\n",
        "\n",
        "    columnNames=[\"MolLogP\",\"MolWt\",\"NumRotatableBonds\"]\n",
        "    descriptors = pd.DataFrame(data=baseData,columns=columnNames)\n",
        "\n",
        "    return descriptors"
      ],
      "execution_count": null,
      "outputs": []
    },
    {
      "cell_type": "code",
      "metadata": {
        "id": "MzMulCVvcf59"
      },
      "source": [
        "df = generate(sol.SMILES)\n",
        "df"
      ],
      "execution_count": null,
      "outputs": []
    },
    {
      "cell_type": "markdown",
      "metadata": {
        "id": "XtlGQy82OiCm"
      },
      "source": [
        "#### **3.2.2. Aromatic proportion**"
      ]
    },
    {
      "cell_type": "markdown",
      "metadata": {
        "id": "YVK5WqOYSmY8"
      },
      "source": [
        "##### 3.2.1.1. Number of aromatic atoms\n",
        "\n",
        "Here, we will create a custom function to calculate the **Number of aromatic atoms**. With this descriptor we can use it to subsequently calculate the AP descriptor."
      ]
    },
    {
      "cell_type": "markdown",
      "metadata": {
        "id": "xcw9oaPR4NM1"
      },
      "source": [
        "Computing for a single molecule."
      ]
    },
    {
      "cell_type": "code",
      "metadata": {
        "id": "1fJVXNHCSfLk"
      },
      "source": [
        "m = Chem.MolFromSmiles('COc1cccc2cc(C(=O)NCCCCN3CCN(c4cccc5nccnc54)CC3)oc21')"
      ],
      "execution_count": null,
      "outputs": []
    },
    {
      "cell_type": "code",
      "metadata": {
        "id": "FENb_2BkYyVq"
      },
      "source": [
        "aromatic_atoms = [m.GetAtomWithIdx(i).GetIsAromatic() for i in range(m.GetNumAtoms())]\n",
        "aromatic_atoms"
      ],
      "execution_count": null,
      "outputs": []
    },
    {
      "cell_type": "code",
      "metadata": {
        "id": "nIF7IrIlcGPD"
      },
      "source": [
        "def AromaticAtoms(m):\n",
        "  aromatic_atoms = [m.GetAtomWithIdx(i).GetIsAromatic() for i in range(m.GetNumAtoms())]\n",
        "  aa_count = []\n",
        "  for i in aromatic_atoms:\n",
        "    if i==True:\n",
        "      aa_count.append(1)\n",
        "  sum_aa_count = sum(aa_count)\n",
        "  return sum_aa_count"
      ],
      "execution_count": null,
      "outputs": []
    },
    {
      "cell_type": "code",
      "metadata": {
        "id": "PK-RJ-dpbqhn"
      },
      "source": [
        "AromaticAtoms(m)"
      ],
      "execution_count": null,
      "outputs": []
    },
    {
      "cell_type": "markdown",
      "metadata": {
        "id": "-uywPiwe4O31"
      },
      "source": [
        "Computing for molecules in the entire dataset."
      ]
    },
    {
      "cell_type": "code",
      "metadata": {
        "id": "jCeydvky4Rgl"
      },
      "source": [
        "desc_AromaticAtoms = [AromaticAtoms(element) for element in mol_list]\n",
        "desc_AromaticAtoms"
      ],
      "execution_count": null,
      "outputs": []
    },
    {
      "cell_type": "markdown",
      "metadata": {
        "id": "rXGyuCnbOplQ"
      },
      "source": [
        "##### 3.2.1.2. **Number of heavy atoms**\n",
        "\n",
        "Here, we will use an existing function for calculating the Number of heavy atoms."
      ]
    },
    {
      "cell_type": "markdown",
      "metadata": {
        "id": "Wgf1teHz3_pP"
      },
      "source": [
        "Computing for a single molecule."
      ]
    },
    {
      "cell_type": "code",
      "metadata": {
        "id": "jVwvt02AOvhv"
      },
      "source": [
        "m = Chem.MolFromSmiles('COc1cccc2cc(C(=O)NCCCCN3CCN(c4cccc5nccnc54)CC3)oc21')\n",
        "Descriptors.HeavyAtomCount(m)"
      ],
      "execution_count": null,
      "outputs": []
    },
    {
      "cell_type": "markdown",
      "metadata": {
        "id": "Pv_BJcjA4HPz"
      },
      "source": [
        "Computing for molecules in the entire dataset."
      ]
    },
    {
      "cell_type": "code",
      "metadata": {
        "id": "m9nsQqIkOuIU"
      },
      "source": [
        "desc_HeavyAtomCount = [Descriptors.HeavyAtomCount(element) for element in mol_list]\n",
        "desc_HeavyAtomCount"
      ],
      "execution_count": null,
      "outputs": []
    },
    {
      "cell_type": "markdown",
      "metadata": {
        "id": "iFDGqPQPQYZb"
      },
      "source": [
        "##### **3.2.1.3. Computing the Aromatic Proportion (AP) descriptor**"
      ]
    },
    {
      "cell_type": "markdown",
      "metadata": {
        "id": "0xVXJIre5-HC"
      },
      "source": [
        "Computing for a single molecule."
      ]
    },
    {
      "cell_type": "code",
      "metadata": {
        "id": "fZAwtZTM5WHU"
      },
      "source": [
        "m = Chem.MolFromSmiles('COc1cccc2cc(C(=O)NCCCCN3CCN(c4cccc5nccnc54)CC3)oc21')\n",
        "AromaticAtoms(m)/Descriptors.HeavyAtomCount(m)"
      ],
      "execution_count": null,
      "outputs": []
    },
    {
      "cell_type": "markdown",
      "metadata": {
        "id": "JsHdN1ui6BBo"
      },
      "source": [
        "Computing for molecules in the entire dataset."
      ]
    },
    {
      "cell_type": "code",
      "metadata": {
        "id": "DogBBjDu4-mI"
      },
      "source": [
        "desc_AromaticProportion = [AromaticAtoms(element)/Descriptors.HeavyAtomCount(element) for element in mol_list]\n",
        "desc_AromaticProportion"
      ],
      "execution_count": null,
      "outputs": []
    },
    {
      "cell_type": "code",
      "metadata": {
        "id": "9zovyVTQOxvA"
      },
      "source": [
        "df_desc_AromaticProportion = pd.DataFrame(desc_AromaticProportion, columns=['AromaticProportion'])\n",
        "df_desc_AromaticProportion"
      ],
      "execution_count": null,
      "outputs": []
    },
    {
      "cell_type": "markdown",
      "metadata": {
        "id": "3ZKZKPOuCVTY"
      },
      "source": [
        "### **3.3. X matrix (Combining all computed descriptors into 1 dataframe)**"
      ]
    },
    {
      "cell_type": "code",
      "metadata": {
        "id": "6VFAdZwbCg0T"
      },
      "source": [
        "df"
      ],
      "execution_count": null,
      "outputs": []
    },
    {
      "cell_type": "code",
      "metadata": {
        "id": "4HygAkqJCk6z"
      },
      "source": [
        "df_desc_AromaticProportion"
      ],
      "execution_count": null,
      "outputs": []
    },
    {
      "cell_type": "markdown",
      "metadata": {
        "id": "KJZT1Ij7Cm7W"
      },
      "source": [
        "Let's combine the 2 dataframes to produce the **X** matrix"
      ]
    },
    {
      "cell_type": "code",
      "metadata": {
        "id": "_lYBhrsaCqEq"
      },
      "source": [
        "X = pd.concat([df,df_desc_AromaticProportion], axis=1)\n",
        "X"
      ],
      "execution_count": null,
      "outputs": []
    },
    {
      "cell_type": "markdown",
      "metadata": {
        "id": "zZI9k4h6FsPF"
      },
      "source": [
        "### **3.4. Y matrix**"
      ]
    },
    {
      "cell_type": "code",
      "metadata": {
        "id": "OazcNGkMHCu1"
      },
      "source": [
        "sol.head()"
      ],
      "execution_count": null,
      "outputs": []
    },
    {
      "cell_type": "markdown",
      "metadata": {
        "id": "6m4Akv3rHG3E"
      },
      "source": [
        "Assigning the second column (index 1) to the Y matrix"
      ]
    },
    {
      "cell_type": "code",
      "metadata": {
        "id": "fcvXs7R7FrbC"
      },
      "source": [
        "Y = sol.iloc[:,1]\n",
        "Y"
      ],
      "execution_count": null,
      "outputs": []
    },
    {
      "cell_type": "markdown",
      "metadata": {
        "id": "qQYE-jCRSmCn"
      },
      "source": [
        "---"
      ]
    },
    {
      "cell_type": "markdown",
      "metadata": {
        "id": "SzrfuUZNFg_X"
      },
      "source": [
        "## **Data split**"
      ]
    },
    {
      "cell_type": "code",
      "metadata": {
        "id": "dMRn8EVjFlrT"
      },
      "source": [
        "from sklearn.model_selection import train_test_split"
      ],
      "execution_count": null,
      "outputs": []
    },
    {
      "cell_type": "code",
      "metadata": {
        "id": "aOIAljc1FmXb"
      },
      "source": [
        "X_train, X_test, Y_train, Y_test = train_test_split(X, Y, test_size=0.2)"
      ],
      "execution_count": null,
      "outputs": []
    },
    {
      "cell_type": "markdown",
      "metadata": {
        "id": "39nTAc3UFUMW"
      },
      "source": [
        "## **Linear Regression Model**"
      ]
    },
    {
      "cell_type": "code",
      "metadata": {
        "id": "K0MokzGBCimk"
      },
      "source": [
        "from sklearn import linear_model\n",
        "from sklearn.metrics import mean_squared_error, r2_score"
      ],
      "execution_count": null,
      "outputs": []
    },
    {
      "cell_type": "code",
      "metadata": {
        "id": "vkR1siPuFZ6X"
      },
      "source": [
        "model = linear_model.LinearRegression()\n",
        "model.fit(X_train, Y_train)"
      ],
      "execution_count": null,
      "outputs": []
    },
    {
      "cell_type": "markdown",
      "metadata": {
        "id": "aG4DMzc5Rks9"
      },
      "source": [
        "### **Predicts the X_train**"
      ]
    },
    {
      "cell_type": "code",
      "metadata": {
        "id": "tZr9CBGvRp1F"
      },
      "source": [
        "Y_pred_train = model.predict(X_train)"
      ],
      "execution_count": null,
      "outputs": []
    },
    {
      "cell_type": "code",
      "metadata": {
        "id": "0x3saPCyRtJP"
      },
      "source": [
        "print('Coefficients:', model.coef_)\n",
        "print('Intercept:', model.intercept_)\n",
        "print('Mean squared error (MSE): %.2f'\n",
        "      % mean_squared_error(Y_train, Y_pred_train))\n",
        "print('Coefficient of determination (R^2): %.2f'\n",
        "      % r2_score(Y_train, Y_pred_train))"
      ],
      "execution_count": null,
      "outputs": []
    },
    {
      "cell_type": "markdown",
      "metadata": {
        "id": "M6evZTPNRecd"
      },
      "source": [
        "### **Predicts the X_test**"
      ]
    },
    {
      "cell_type": "code",
      "metadata": {
        "id": "I_eFbrlaHhPU"
      },
      "source": [
        "Y_pred_test = model.predict(X_test)"
      ],
      "execution_count": null,
      "outputs": []
    },
    {
      "cell_type": "code",
      "metadata": {
        "id": "TQnDfyl5HkUr"
      },
      "source": [
        "print('Coefficients:', model.coef_)\n",
        "print('Intercept:', model.intercept_)\n",
        "print('Mean squared error (MSE): %.2f'\n",
        "      % mean_squared_error(Y_test, Y_pred_test))\n",
        "print('Coefficient of determination (R^2): %.2f'\n",
        "      % r2_score(Y_test, Y_pred_test))"
      ],
      "execution_count": null,
      "outputs": []
    },
    {
      "cell_type": "markdown",
      "metadata": {
        "id": "nERFfdQBRFF5"
      },
      "source": [
        "### **Linear Regression Equation**"
      ]
    },
    {
      "cell_type": "markdown",
      "metadata": {
        "id": "j3xLiGWHFiY1"
      },
      "source": [
        "The work of Delaney$^1$ provided the following linear regression equation:\n",
        "\n",
        "> LogS = 0.16 -  0.63 cLogP - 0.0062 MW + 0.066 RB - 0.74 AP\n",
        "\n",
        "The reproduction by Pat Walters$^2$ provided the following:\n",
        "\n",
        "> LogS = 0.26 -  0.74 LogP - 0.0066 MW + 0.0034 RB - 0.42 AP\n",
        "\n",
        "This notebook's reproduction gave the following equation:\n",
        "\n",
        "* Based on the Train set\n",
        "> LogS = 0.30 -0.75 LogP - .0066 MW -0.0041 RB - 0.36 AP\n",
        "\n",
        "* Based on the Full dataset\n",
        "> LogS =  0.26 -0.74 LogP - 0.0066 + MW 0.0032 RB - 0.42 AP"
      ]
    },
    {
      "cell_type": "markdown",
      "metadata": {
        "id": "FaWyYnMbWtYu"
      },
      "source": [
        "#### **Our linear regression equation**"
      ]
    },
    {
      "cell_type": "code",
      "metadata": {
        "id": "0TH6J9evHIIE"
      },
      "source": [
        "print('LogS = %.2f %.2f LogP %.4f MW %.4f RB %.2f AP' % (model.intercept_, model.coef_[0], model.coef_[1], model.coef_[2], model.coef_[3] ) )"
      ],
      "execution_count": null,
      "outputs": []
    },
    {
      "cell_type": "markdown",
      "metadata": {
        "id": "VcJyUzsLSz2A"
      },
      "source": [
        "The same equation can also be produced with the following code (which breaks up the previous one-line code into several comprehensible lines."
      ]
    },
    {
      "cell_type": "code",
      "metadata": {
        "id": "byUbJ9QqK5gA"
      },
      "source": [
        "yintercept = '%.2f' % model.intercept_\n",
        "LogP = '%.2f LogP' % model.coef_[0]\n",
        "MW = '%.4f MW' % model.coef_[1]\n",
        "RB = '%.4f RB' % model.coef_[2]\n",
        "AP = '%.2f AP' % model.coef_[3]"
      ],
      "execution_count": null,
      "outputs": []
    },
    {
      "cell_type": "code",
      "metadata": {
        "id": "QY-9rh--S-6g"
      },
      "source": [
        "print('LogS = ' +\n",
        "      ' ' +\n",
        "      yintercept +\n",
        "      ' ' +\n",
        "      LogP +\n",
        "      ' ' +\n",
        "      MW +\n",
        "      ' ' +\n",
        "      RB +\n",
        "      ' ' +\n",
        "      AP)"
      ],
      "execution_count": null,
      "outputs": []
    },
    {
      "cell_type": "markdown",
      "metadata": {
        "id": "R3lRkSOJRm1q"
      },
      "source": [
        "#### **Use entire dataset for model training (For Comparison)**"
      ]
    },
    {
      "cell_type": "code",
      "metadata": {
        "id": "QUye6SsIRl9T"
      },
      "source": [
        "full = linear_model.LinearRegression()\n",
        "full.fit(X, Y)"
      ],
      "execution_count": null,
      "outputs": []
    },
    {
      "cell_type": "code",
      "metadata": {
        "id": "6tMI8n0oR1b5"
      },
      "source": [
        "full_pred = model.predict(X)"
      ],
      "execution_count": null,
      "outputs": []
    },
    {
      "cell_type": "code",
      "metadata": {
        "id": "7ZVD8Fg1R6zt"
      },
      "source": [
        "print('Coefficients:', full.coef_)\n",
        "print('Intercept:', full.intercept_)\n",
        "print('Mean squared error (MSE): %.2f'\n",
        "      % mean_squared_error(Y, full_pred))\n",
        "print('Coefficient of determination (R^2): %.2f'\n",
        "      % r2_score(Y, full_pred))"
      ],
      "execution_count": null,
      "outputs": []
    },
    {
      "cell_type": "code",
      "metadata": {
        "id": "AFYYzcc1VqIo"
      },
      "source": [
        "full_yintercept = '%.2f' % full.intercept_\n",
        "full_LogP = '%.2f LogP' % full.coef_[0]\n",
        "full_MW = '%.4f MW' % full.coef_[1]\n",
        "full_RB = '+ %.4f RB' % full.coef_[2]\n",
        "full_AP = '%.2f AP' % full.coef_[3]"
      ],
      "execution_count": null,
      "outputs": []
    },
    {
      "cell_type": "code",
      "metadata": {
        "id": "zwU4QJhhVsKb"
      },
      "source": [
        "print('LogS = ' +\n",
        "      ' ' +\n",
        "      full_yintercept +\n",
        "      ' ' +\n",
        "      full_LogP +\n",
        "      ' ' +\n",
        "      full_MW +\n",
        "      ' ' +\n",
        "      full_RB +\n",
        "      ' ' +\n",
        "      full_AP)"
      ],
      "execution_count": null,
      "outputs": []
    },
    {
      "cell_type": "markdown",
      "metadata": {
        "id": "qp-hjUv4IWe-"
      },
      "source": [
        "## **Scatter plot of experimental vs. predicted LogS**"
      ]
    },
    {
      "cell_type": "code",
      "metadata": {
        "id": "hZDdRiPWIZbX"
      },
      "source": [
        "import matplotlib.pyplot as plt"
      ],
      "execution_count": null,
      "outputs": []
    },
    {
      "cell_type": "markdown",
      "metadata": {
        "id": "Q6bP41fKEY9O"
      },
      "source": [
        "### **Quick check of the variable dimensions of Train and Test sets**"
      ]
    },
    {
      "cell_type": "code",
      "metadata": {
        "id": "LA5dH5oiEUnP"
      },
      "source": [
        "Y_train.shape, Y_pred_train.shape"
      ],
      "execution_count": null,
      "outputs": []
    },
    {
      "cell_type": "code",
      "metadata": {
        "id": "HIu7YbbFP-7o"
      },
      "source": [
        "Y_test.shape, Y_pred_test.shape"
      ],
      "execution_count": null,
      "outputs": []
    },
    {
      "cell_type": "markdown",
      "metadata": {
        "id": "OHqv3TlYa5qF"
      },
      "source": [
        "### **Vertical plot**"
      ]
    },
    {
      "cell_type": "code",
      "metadata": {
        "id": "shQPfrHIOmRD"
      },
      "source": [
        "plt.figure(figsize=(5,11))\n",
        "\n",
        "# 2 row, 1 column, plot 1\n",
        "plt.subplot(2, 1, 1)\n",
        "plt.scatter(x=Y_train, y=Y_pred_train, c=\"#7CAE00\", alpha=0.3)\n",
        "\n",
        "# Add trendline\n",
        "# https://stackoverflow.com/questions/26447191/how-to-add-trendline-in-python-matplotlib-dot-scatter-graphs\n",
        "z = np.polyfit(Y_train, Y_pred_train, 1)\n",
        "p = np.poly1d(z)\n",
        "plt.plot(Y_test,p(Y_test),\"#F8766D\")\n",
        "\n",
        "plt.ylabel('Predicted LogS')\n",
        "\n",
        "\n",
        "# 2 row, 1 column, plot 2\n",
        "plt.subplot(2, 1, 2)\n",
        "plt.scatter(x=Y_test, y=Y_pred_test, c=\"#619CFF\", alpha=0.3)\n",
        "\n",
        "z = np.polyfit(Y_test, Y_pred_test, 1)\n",
        "p = np.poly1d(z)\n",
        "plt.plot(Y_test,p(Y_test),\"#F8766D\")\n",
        "\n",
        "plt.ylabel('Predicted LogS')\n",
        "plt.xlabel('Experimental LogS')\n",
        "\n",
        "plt.savefig('plot_vertical_logS.png')\n",
        "plt.savefig('plot_vertical_logS.pdf')\n",
        "plt.show()"
      ],
      "execution_count": null,
      "outputs": []
    },
    {
      "cell_type": "markdown",
      "metadata": {
        "id": "PswCQ7Yra_CW"
      },
      "source": [
        "### **Horizontal plot**"
      ]
    },
    {
      "cell_type": "code",
      "metadata": {
        "id": "xG7NWEscT8QO"
      },
      "source": [
        "plt.figure(figsize=(11,5))\n",
        "\n",
        "# 1 row, 2 column, plot 1\n",
        "plt.subplot(1, 2, 1)\n",
        "plt.scatter(x=Y_train, y=Y_pred_train, c=\"#7CAE00\", alpha=0.3)\n",
        "\n",
        "z = np.polyfit(Y_train, Y_pred_train, 1)\n",
        "p = np.poly1d(z)\n",
        "plt.plot(Y_test,p(Y_test),\"#F8766D\")\n",
        "\n",
        "plt.ylabel('Predicted LogS')\n",
        "plt.xlabel('Experimental LogS')\n",
        "\n",
        "# 1 row, 2 column, plot 2\n",
        "plt.subplot(1, 2, 2)\n",
        "plt.scatter(x=Y_test, y=Y_pred_test, c=\"#619CFF\", alpha=0.3)\n",
        "\n",
        "z = np.polyfit(Y_test, Y_pred_test, 1)\n",
        "p = np.poly1d(z)\n",
        "plt.plot(Y_test,p(Y_test),\"#F8766D\")\n",
        "\n",
        "plt.xlabel('Experimental LogS')\n",
        "\n",
        "plt.savefig('plot_horizontal_logS.png')\n",
        "plt.savefig('plot_horizontal_logS.pdf')\n",
        "plt.show()"
      ],
      "execution_count": null,
      "outputs": []
    },
    {
      "cell_type": "code",
      "metadata": {
        "id": "WXn0vFThYYFT"
      },
      "source": [
        "! ls -l"
      ],
      "execution_count": null,
      "outputs": []
    },
    {
      "cell_type": "markdown",
      "metadata": {
        "id": "ARiv3f1iC565"
      },
      "source": [
        "---"
      ]
    },
    {
      "cell_type": "markdown",
      "metadata": {
        "id": "jwM1QHeLbxJl"
      },
      "source": [
        "## **Reference**\n",
        "\n",
        "1. John S. Delaney. [ESOL:  Estimating Aqueous Solubility Directly from Molecular Structure](https://pubs.acs.org/doi/10.1021/ci034243x). ***J. Chem. Inf. Comput. Sci.*** 2004, 44, 3, 1000-1005.\n",
        "\n",
        "2. Pat Walters. [Predicting Aqueous Solubility - It's Harder Than It Looks](http://practicalcheminformatics.blogspot.com/2018/09/predicting-aqueous-solubility-its.html). ***Practical Cheminformatics Blog***\n",
        "\n",
        "3. Bharath Ramsundar, Peter Eastman, Patrick Walters, and Vijay Pande. [Deep Learning for the Life Sciences: Applying Deep Learning to Genomics, Microscopy, Drug Discovery, and More](https://learning.oreilly.com/library/view/deep-learning-for/9781492039822/), O'Reilly, 2019.\n",
        "\n",
        "4. [Supplementary file](https://pubs.acs.org/doi/10.1021/ci034243x) from Delaney's ESOL:  Estimating Aqueous Solubility Directly from Molecular Structure."
      ]
    }
  ]
}